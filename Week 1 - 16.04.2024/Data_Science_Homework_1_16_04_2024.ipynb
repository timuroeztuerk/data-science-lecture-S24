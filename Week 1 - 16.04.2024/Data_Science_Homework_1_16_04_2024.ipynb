{
  "nbformat": 4,
  "nbformat_minor": 0,
  "metadata": {
    "colab": {
      "provenance": []
    },
    "kernelspec": {
      "name": "python3",
      "display_name": "Python 3"
    },
    "language_info": {
      "name": "python"
    }
  },
  "cells": [
    {
      "cell_type": "code",
      "execution_count": null,
      "metadata": {
        "id": "HONuAkndmkcn"
      },
      "outputs": [],
      "source": [
        "# First things first, you should be able to import data from different sources.\n",
        "# You will find two datasets on the GitHub repository of this course. Below are the links to the files.\n",
        "# https://raw.githubusercontent.com/timuroeztuerk/data-science-lecture-S24/main/Datasets/StudentsPerformance.csv\n",
        "# https://raw.githubusercontent.com/timuroeztuerk/data-science-lecture-S24/main/Datasets/netflix_titles.csv\n",
        "##############\n",
        "# ASSIGNMENT 1\n",
        "# Import the Pandas library, and then use the links to create two dataframes, students and netflix.\n",
        "# Optionally, assign the URLs to two variables and create the dataframes using those variables.\n",
        "\n",
        "# Your code here..."
      ]
    },
    {
      "cell_type": "code",
      "source": [
        "##############\n",
        "# ASSIGNMENT 2\n",
        "# Using the students dataset, show how many columns and rows the dataset has.\n",
        "\n",
        "# Your code here...\n",
        "\n",
        "# (1) Show the summary statistics for the whole dataset. (2) What are the average grades for different groups of students?\n",
        "# i.e. different race/ethnicity, whether they receive free lunch.\n",
        "\n",
        "# Your code here..."
      ],
      "metadata": {
        "id": "UMNSo9TfqljY"
      },
      "execution_count": null,
      "outputs": []
    },
    {
      "cell_type": "code",
      "source": [
        "##############\n",
        "# ASSIGNMENT 3\n",
        "# Using the netflix dataset, create another dataframe that only includes movies and TV shows from the Nolan brothers (google who they are, if you don't know.)\n",
        "\n",
        "# Your code here...\n",
        "\n",
        "# Filter the initial dataset on the movies produced in Germany after 2015.\n",
        "\n",
        "# Your code here...\n",
        "\n",
        "# Lastly, using .loc and .iloc, parse the first 50 rows of the title column.\n",
        "\n",
        "# Your code here..."
      ],
      "metadata": {
        "id": "n1-8TR8Yt_b5"
      },
      "execution_count": null,
      "outputs": []
    }
  ]
}