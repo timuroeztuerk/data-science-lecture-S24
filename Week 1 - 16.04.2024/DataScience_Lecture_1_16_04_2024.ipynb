{
  "nbformat": 4,
  "nbformat_minor": 0,
  "metadata": {
    "colab": {
      "provenance": []
    },
    "kernelspec": {
      "name": "python3",
      "display_name": "Python 3"
    },
    "language_info": {
      "name": "python"
    }
  },
  "cells": [
    {
      "cell_type": "markdown",
      "source": [
        "# Lecture 1: Introduction to Python and Natural Language Processing"
      ],
      "metadata": {
        "id": "z9aE4k3tEkAo"
      }
    },
    {
      "cell_type": "markdown",
      "source": [
        "## Basics of Python\n",
        "Let's start with the basics of Python and programming. Python is a very welcoming language, and if you have any previous experience with programming, you will adjust quickly. Copy this notebook to your account and edit however you wish."
      ],
      "metadata": {
        "id": "3bckdTg9Sj2g"
      }
    },
    {
      "cell_type": "code",
      "source": [
        "# Like any other mainstream programming language, Python is also driven by objects. A fancier name for this is Object Oriented Programming (OOP).\n",
        "# Variable assignment\n",
        "x = 5\n",
        "y = 3\n",
        "\n",
        "# We can also define operations as objects, and \"call\" them later.\n",
        "# Basic arithmetic operations\n",
        "sum = x + y\n",
        "difference = x - y\n",
        "product = x * y\n",
        "quotient = x / y\n",
        "\n",
        "# Print results\n",
        "print(\"Sum:\", sum)\n",
        "print(\"Difference:\", difference)\n",
        "print(\"Product:\", product)\n",
        "print(\"Quotient:\", quotient)"
      ],
      "metadata": {
        "id": "hnRK0vcxQaFu"
      },
      "execution_count": null,
      "outputs": []
    },
    {
      "cell_type": "code",
      "source": [
        "#####################\n",
        "### Mini-Assignment 1\n",
        "#####################\n",
        "\n",
        "# Could you write a code so that it prints the following? Use already defined x and y.\n",
        "# 'While the sum is 8, the difference is 2.'\n",
        "\n",
        "# Write your code here..."
      ],
      "metadata": {
        "id": "Ccx_PWgjYJMw"
      },
      "execution_count": null,
      "outputs": []
    },
    {
      "cell_type": "code",
      "source": [
        "#####################\n",
        "### Mini-Assignment 2\n",
        "#####################\n",
        "\n",
        "# Taken from https://pyflo.net/variables/ .\n",
        "# What do you think the difference between two print statements will be?\n",
        "# value_1 = 'bear'\n",
        "# value_2 = 'cheetah'\n",
        "# print(value_1, value_2)\n",
        "# print(value_1 + value_2)"
      ],
      "metadata": {
        "id": "STNMgUgBYRl1"
      },
      "execution_count": null,
      "outputs": []
    },
    {
      "cell_type": "code",
      "source": [
        "# How did the computer know what to do when you run the code \" print() \"?\n",
        "# Print is a pre-defined \"function\", just like many other we will use, or create along this course.\n",
        "# Function definition\n",
        "def greet(name):\n",
        "    return \"Hello, \" + name + \"!\"\n",
        "\n",
        "# After defining the \"greet\" function, we can call it, or even use it in another function. Think about all those possibilities!\n",
        "# Function call\n",
        "message = greet(\"Timur\")\n",
        "print(message)"
      ],
      "metadata": {
        "id": "UYa4CIfQQhGC"
      },
      "execution_count": null,
      "outputs": []
    },
    {
      "cell_type": "code",
      "source": [
        "# Before we go further to loops and conditional statements, we should learn about variable types.\n",
        "# There are four main/basic types of values, which are strings, integers, floats, and booleans.\n",
        "\n",
        "string = 'DataScience'\n",
        "integer = 1\n",
        "float = 12.4\n",
        "boolean = 2 < 5 #Check the result by yourself.\n",
        "\n",
        "# Throughout this course, we will be focusing on texts or strings.\n",
        "# https://pyflo.net/integers/\n",
        "# https://pyflo.net/math/\n",
        "# https://pyflo.net/boolean/\n",
        "# https://pyflo.net/string-indexing/"
      ],
      "metadata": {
        "id": "laAatbOr7E5e"
      },
      "execution_count": null,
      "outputs": []
    },
    {
      "cell_type": "code",
      "source": [
        "# The following code snippet is about three key programming concepts; conditional statements and loops (while and for).\n",
        "# We are usually interested in iterating over objects (datasets, statistics, regressions).\n",
        "# Conditional statement\n",
        "x = 10\n",
        "if x > 0:\n",
        "    print(\"Positive\")\n",
        "elif x == 0:\n",
        "    print(\"Zero\")\n",
        "else:\n",
        "    print(\"Negative\")\n",
        "# For further details, check: https://pyflo.net/else/, https://pyflo.net/elif/"
      ],
      "metadata": {
        "id": "D8DKNLbkQdJ2"
      },
      "execution_count": null,
      "outputs": []
    },
    {
      "cell_type": "code",
      "source": [
        "# There are two main types of loops: while and for.\n",
        "count = 0\n",
        "while count < 5:\n",
        "    print(\"Count:\", count)\n",
        "    count += 1\n",
        "# For loop\n",
        "for i in range(5):\n",
        "    print(\"Number:\", i)"
      ],
      "metadata": {
        "id": "z4kT0LXE-q7H"
      },
      "execution_count": null,
      "outputs": []
    },
    {
      "cell_type": "markdown",
      "source": [
        "## Introduction to Pandas and DataFrames\n",
        "\n",
        "One of the main advantages of Python is the community around it. You can technically do anything with any programming language you can think of. However, the community, or the people who work on similar projects just like you develop and share their functions and code. Let's examine several of these packages that we will use in this course and possibly in your future careers.\n",
        "\n",
        "Pandas library is a fundamental tool for data scientists. Have a look at https://pandas.pydata.org/docs/user_guide/10min.html in your free time, this section relies on this website."
      ],
      "metadata": {
        "id": "bTMdjdHd8fuV"
      }
    },
    {
      "cell_type": "code",
      "source": [
        "import pandas as pd\n",
        "\n",
        "# This library is mostly about DataFrames (basically datasets), and manipulating them.\n",
        "# Create a DataFrame\n",
        "data = {'Name': ['Alice', 'Bob', 'Charlie'],\n",
        "        'Age': [25, 30, 35],\n",
        "        'City': ['New York', 'Los Angeles', 'Chicago']}\n",
        "df = pd.DataFrame(data)"
      ],
      "metadata": {
        "id": "COJbRzrWTWKA"
      },
      "execution_count": null,
      "outputs": []
    },
    {
      "cell_type": "code",
      "source": [
        "# Displaying the DataFrame in Jupyter notebooks.\n",
        "print(df)"
      ],
      "metadata": {
        "id": "cWq6JQTKv10k"
      },
      "execution_count": null,
      "outputs": []
    },
    {
      "cell_type": "code",
      "source": [
        "# Or, what I like to do is simply:\n",
        "df"
      ],
      "metadata": {
        "id": "Ss7DjjQUwRIB"
      },
      "execution_count": null,
      "outputs": []
    },
    {
      "cell_type": "code",
      "source": [
        "# If you look at any online resources, you will see that the .head() option is used heavily.\n",
        "# This is very useful for two reasons: (1) by only showing the first few rows, with bigger datasets, you won't need to compute heavily, and (2) you can see all the variables very fast.\n",
        "df.head()"
      ],
      "metadata": {
        "id": "oCiug7nPwbFR"
      },
      "execution_count": null,
      "outputs": []
    },
    {
      "cell_type": "code",
      "source": [
        "# There are some other operations that you will find very useful.\n",
        "# Shape of the dataframe, or the dataset if you will.\n",
        "df.shape"
      ],
      "metadata": {
        "id": "m60DAvLB0MbW"
      },
      "execution_count": null,
      "outputs": []
    },
    {
      "cell_type": "code",
      "source": [
        "# For a quick look at the names of the variables (columns).\n",
        "df.columns"
      ],
      "metadata": {
        "id": "sXarkkqW8Vrz"
      },
      "execution_count": null,
      "outputs": []
    },
    {
      "cell_type": "code",
      "source": [
        "# Maybe you want to see if there are any dummy (boolean) variables.\n",
        "df.dtypes"
      ],
      "metadata": {
        "id": "47f431yI8X7Z"
      },
      "execution_count": null,
      "outputs": []
    },
    {
      "cell_type": "code",
      "source": [
        "# And, maybe the most importantly, descriptive statistics.\n",
        "df.describe()"
      ],
      "metadata": {
        "id": "-uL3nziR8ZLH"
      },
      "execution_count": null,
      "outputs": []
    },
    {
      "cell_type": "code",
      "source": [
        "# We have seen quite a lot in Python and Pandas. However, The best way to learn programming is to do projects on your own.\n",
        "# If you are interested in where you can find more datasets and projects, visit kaggle.com. Kaggle is the central place where you can learn on a project basis.\n",
        "# For the rest of this course, we will work on a Kaggle dataset (https://www.kaggle.com/code/kashnitsky/a1-demo-pandas-and-uci-adult-dataset/notebook) shared by Yury Kashnitsky.\n",
        "\n",
        "import pandas as pd\n",
        "df = pd.read_csv('https://raw.githubusercontent.com/timuroeztuerk/data-science-lecture-S24/main/Datasets/adult_data.csv')"
      ],
      "metadata": {
        "id": "aCwKw9KI_Wo2"
      },
      "execution_count": null,
      "outputs": []
    },
    {
      "cell_type": "code",
      "source": [
        "# Sometimes we might have different dataframes for different variables. Often we just need one column from that dataframe.\n",
        "# Let's learn the basic data manipulation syntax in Python/Pandas.\n",
        "\n",
        "# Subsetting only one column, and saving it as an object.\n",
        "education = df[\"education\"]"
      ],
      "metadata": {
        "id": "RIQeR-vWEVXt"
      },
      "execution_count": null,
      "outputs": []
    },
    {
      "cell_type": "code",
      "source": [
        "# We can also filter the columns when we are at it.\n",
        "only_bachelors = df[df['education'] == 'Bachelors']"
      ],
      "metadata": {
        "id": "6n93Si2vE_Cs"
      },
      "execution_count": null,
      "outputs": []
    },
    {
      "cell_type": "code",
      "source": [
        "# What about combining different filtering options?\n",
        "bachelors_over_40 = df[(df['education'] == 'Bachelors') & (df['age'] > 40)]"
      ],
      "metadata": {
        "id": "7QtFS5KgFsH-"
      },
      "execution_count": null,
      "outputs": []
    },
    {
      "cell_type": "code",
      "source": [
        "# Adding a new column as a result of two other columns. This could have been a sum, division etc.\n",
        "df[\"time-outside-education\"] = df[\"age\"] - df[\"education-num\"]"
      ],
      "metadata": {
        "id": "yzwY0F35cZgs"
      },
      "execution_count": null,
      "outputs": []
    },
    {
      "cell_type": "code",
      "source": [
        "# Almost always, we will have categorical variables in our data, especially if it is historical data.\n",
        "# Therefore, we might want to pick only some categories.\n",
        "\n",
        "# Interesting countries\n",
        "countries = [\"Germany\", \"Canada\"]\n",
        "\n",
        "# Filter for rows for our countries using .isin().\n",
        "country_filtered = df[df[\"native-country\"].isin(countries)]"
      ],
      "metadata": {
        "id": "O7Tx8wlrGyrz"
      },
      "execution_count": null,
      "outputs": []
    },
    {
      "cell_type": "code",
      "source": [
        "# It is your turn now. I will let you choose what type of filtering you want to do, but go ahead and:\n",
        "# (1) create two objects from one columns each,\n",
        "# (2) and combine three filters and create a dataframe.\n",
        "\n",
        "\n",
        "# Write your code here...."
      ],
      "metadata": {
        "id": "f-dSaKmcH2QY"
      },
      "execution_count": null,
      "outputs": []
    },
    {
      "cell_type": "code",
      "source": [
        "# After you manipulate some rows (or before), you can start with some statistics.\n",
        "print(df[\"age\"].mean())\n",
        "print(df[\"age\"].median())\n",
        "print(df[\"age\"].min())\n",
        "print(df[\"age\"].max())\n",
        "print(df[\"age\"].cumsum())\n",
        "print(df[\"age\"].cummax())"
      ],
      "metadata": {
        "id": "676ydVe9IMNn"
      },
      "execution_count": null,
      "outputs": []
    }
  ]
}